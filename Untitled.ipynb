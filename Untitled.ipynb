{
 "cells": [
  {
   "cell_type": "code",
   "execution_count": 1,
   "metadata": {
    "ExecuteTime": {
     "end_time": "2022-01-21T15:47:30.472836Z",
     "start_time": "2022-01-21T15:47:29.738429Z"
    }
   },
   "outputs": [],
   "source": [
    "import requests\n",
    "import sys\n",
    "import os\n",
    "import datetime\n",
    "import json\n",
    "import urllib\n",
    "from os.path import dirname, abspath\n",
    "from os.path import join as pjoin"
   ]
  },
  {
   "cell_type": "code",
   "execution_count": 2,
   "metadata": {
    "ExecuteTime": {
     "end_time": "2022-01-21T15:47:30.847597Z",
     "start_time": "2022-01-21T15:47:30.832600Z"
    }
   },
   "outputs": [],
   "source": [
    "url_base = \"https://archive-api.lco.global/frames/?\""
   ]
  },
  {
   "cell_type": "code",
   "execution_count": 3,
   "metadata": {
    "ExecuteTime": {
     "end_time": "2022-01-21T15:47:31.330751Z",
     "start_time": "2022-01-21T15:47:31.326782Z"
    }
   },
   "outputs": [],
   "source": [
    "params =     {\n",
    "        \"type\": \"lco\",\n",
    "        \"start\": \"2016-02-01 00:00\",\n",
    "        \"end\": \"2016-08-01 00:00\",\n",
    "        \"public\": \"true\",\n",
    "        \"SITEID\": \"coj\",\n",
    "        \"TELID\": \"2m0a\",\n",
    "        \"limit\": \"100\"\n",
    "    }"
   ]
  },
  {
   "cell_type": "code",
   "execution_count": 4,
   "metadata": {
    "ExecuteTime": {
     "end_time": "2022-01-21T15:47:31.935428Z",
     "start_time": "2022-01-21T15:47:31.917429Z"
    }
   },
   "outputs": [],
   "source": [
    "encoded_params = urllib.parse.urlencode(params)"
   ]
  },
  {
   "cell_type": "code",
   "execution_count": 5,
   "metadata": {
    "ExecuteTime": {
     "end_time": "2022-01-21T15:47:32.699804Z",
     "start_time": "2022-01-21T15:47:32.683811Z"
    }
   },
   "outputs": [],
   "source": [
    "url = url_base + encoded_params"
   ]
  },
  {
   "cell_type": "code",
   "execution_count": 6,
   "metadata": {
    "ExecuteTime": {
     "end_time": "2022-01-21T15:47:48.908797Z",
     "start_time": "2022-01-21T15:47:46.136621Z"
    }
   },
   "outputs": [],
   "source": [
    "r = requests.get(url=url)"
   ]
  },
  {
   "cell_type": "code",
   "execution_count": 7,
   "metadata": {
    "ExecuteTime": {
     "end_time": "2022-01-21T15:47:53.999387Z",
     "start_time": "2022-01-21T15:47:53.969391Z"
    }
   },
   "outputs": [
    {
     "data": {
      "text/plain": [
       "200"
      ]
     },
     "execution_count": 7,
     "metadata": {},
     "output_type": "execute_result"
    }
   ],
   "source": [
    "r.status_code"
   ]
  },
  {
   "cell_type": "code",
   "execution_count": 8,
   "metadata": {
    "ExecuteTime": {
     "end_time": "2022-01-21T15:48:03.080460Z",
     "start_time": "2022-01-21T15:48:03.069458Z"
    }
   },
   "outputs": [],
   "source": [
    "request_data = r.json()"
   ]
  },
  {
   "cell_type": "code",
   "execution_count": 10,
   "metadata": {
    "ExecuteTime": {
     "end_time": "2022-01-21T15:48:10.686758Z",
     "start_time": "2022-01-21T15:48:10.670728Z"
    }
   },
   "outputs": [
    {
     "data": {
      "text/plain": [
       "dict_keys(['count', 'next', 'previous', 'results'])"
      ]
     },
     "execution_count": 10,
     "metadata": {},
     "output_type": "execute_result"
    }
   ],
   "source": [
    "request_data.keys()"
   ]
  },
  {
   "cell_type": "code",
   "execution_count": null,
   "metadata": {},
   "outputs": [],
   "source": []
  }
 ],
 "metadata": {
  "kernelspec": {
   "display_name": "Python 3",
   "language": "python",
   "name": "python3"
  },
  "language_info": {
   "codemirror_mode": {
    "name": "ipython",
    "version": 3
   },
   "file_extension": ".py",
   "mimetype": "text/x-python",
   "name": "python",
   "nbconvert_exporter": "python",
   "pygments_lexer": "ipython3",
   "version": "3.7.6"
  },
  "toc": {
   "base_numbering": 1,
   "nav_menu": {},
   "number_sections": true,
   "sideBar": true,
   "skip_h1_title": true,
   "title_cell": "Table of Contents",
   "title_sidebar": "Contents",
   "toc_cell": false,
   "toc_position": {
    "height": "calc(100% - 180px)",
    "left": "10px",
    "top": "150px",
    "width": "384px"
   },
   "toc_section_display": true,
   "toc_window_display": true
  }
 },
 "nbformat": 4,
 "nbformat_minor": 2
}
