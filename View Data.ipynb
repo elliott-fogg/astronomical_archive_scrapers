{
 "cells": [
  {
   "cell_type": "code",
   "execution_count": 1,
   "metadata": {
    "ExecuteTime": {
     "end_time": "2021-05-25T15:51:18.992000Z",
     "start_time": "2021-05-25T15:51:16.405000Z"
    }
   },
   "outputs": [],
   "source": [
    "import json\n",
    "import pandas"
   ]
  },
  {
   "cell_type": "code",
   "execution_count": 5,
   "metadata": {
    "ExecuteTime": {
     "end_time": "2021-05-25T15:51:29.949000Z",
     "start_time": "2021-05-25T15:51:29.943000Z"
    }
   },
   "outputs": [],
   "source": [
    "import json"
   ]
  },
  {
   "cell_type": "code",
   "execution_count": 6,
   "metadata": {
    "ExecuteTime": {
     "end_time": "2021-05-25T15:51:33.358000Z",
     "start_time": "2021-05-25T15:51:33.350000Z"
    }
   },
   "outputs": [],
   "source": [
    "import pandas"
   ]
  },
  {
   "cell_type": "code",
   "execution_count": 7,
   "metadata": {
    "ExecuteTime": {
     "end_time": "2021-05-25T15:51:34.896000Z",
     "start_time": "2021-05-25T15:51:34.873000Z"
    }
   },
   "outputs": [],
   "source": [
    "with open(\"data/lco/coj_2m0a_2016-02-01_2016-08-01/datafile_0.json\") as f:\n",
    "    data = f.read()\n"
   ]
  },
  {
   "cell_type": "code",
   "execution_count": 8,
   "metadata": {
    "ExecuteTime": {
     "end_time": "2021-05-25T15:51:35.682000Z",
     "start_time": "2021-05-25T15:51:35.397000Z"
    }
   },
   "outputs": [],
   "source": [
    "df = pandas.read_json(data)"
   ]
  },
  {
   "cell_type": "code",
   "execution_count": 9,
   "metadata": {
    "ExecuteTime": {
     "end_time": "2021-05-25T15:51:40.361000Z",
     "start_time": "2021-05-25T15:51:40.295000Z"
    }
   },
   "outputs": [
    {
     "data": {
      "text/html": [
       "<div>\n",
       "<style scoped>\n",
       "    .dataframe tbody tr th:only-of-type {\n",
       "        vertical-align: middle;\n",
       "    }\n",
       "\n",
       "    .dataframe tbody tr th {\n",
       "        vertical-align: top;\n",
       "    }\n",
       "\n",
       "    .dataframe thead th {\n",
       "        text-align: right;\n",
       "    }\n",
       "</style>\n",
       "<table border=\"1\" class=\"dataframe\">\n",
       "  <thead>\n",
       "    <tr style=\"text-align: right;\">\n",
       "      <th></th>\n",
       "      <th>BLKUID</th>\n",
       "      <th>DATE_OBS</th>\n",
       "      <th>DAY_OBS</th>\n",
       "      <th>EXPTIME</th>\n",
       "      <th>FILTER</th>\n",
       "      <th>INSTRUME</th>\n",
       "      <th>L1PUBDAT</th>\n",
       "      <th>OBJECT</th>\n",
       "      <th>OBSTYPE</th>\n",
       "      <th>PROPID</th>\n",
       "      <th>...</th>\n",
       "      <th>RLEVEL</th>\n",
       "      <th>SITEID</th>\n",
       "      <th>TELID</th>\n",
       "      <th>area</th>\n",
       "      <th>basename</th>\n",
       "      <th>filename</th>\n",
       "      <th>id</th>\n",
       "      <th>related_frames</th>\n",
       "      <th>url</th>\n",
       "      <th>version_set</th>\n",
       "    </tr>\n",
       "  </thead>\n",
       "  <tbody>\n",
       "    <tr>\n",
       "      <th>0</th>\n",
       "      <td>88091935.0</td>\n",
       "      <td>2016-07-31T06:26:36.154000Z</td>\n",
       "      <td>2016-07-31</td>\n",
       "      <td>900.0</td>\n",
       "      <td>air</td>\n",
       "      <td>fs01</td>\n",
       "      <td>2016-07-31T06:26:36.154000Z</td>\n",
       "      <td></td>\n",
       "      <td>DARK</td>\n",
       "      <td>calibrate</td>\n",
       "      <td>...</td>\n",
       "      <td>0</td>\n",
       "      <td>coj</td>\n",
       "      <td>2m0a</td>\n",
       "      <td>{u'type': u'Polygon', u'coordinates': [[[14.62...</td>\n",
       "      <td>coj2m002-fs01-20160731-0042-d00</td>\n",
       "      <td>coj2m002-fs01-20160731-0042-d00.fits.fz</td>\n",
       "      <td>4560853</td>\n",
       "      <td>[19720335]</td>\n",
       "      <td>https://archive-lco-global.s3.amazonaws.com/co...</td>\n",
       "      <td>[{u'extension': u'.fits.fz', u'created': u'202...</td>\n",
       "    </tr>\n",
       "    <tr>\n",
       "      <th>1</th>\n",
       "      <td>88091935.0</td>\n",
       "      <td>2016-07-31T06:26:36.154000Z</td>\n",
       "      <td>2016-07-31</td>\n",
       "      <td>900.0</td>\n",
       "      <td>air</td>\n",
       "      <td>fs01</td>\n",
       "      <td>2016-07-31T06:26:36.154000Z</td>\n",
       "      <td></td>\n",
       "      <td>DARK</td>\n",
       "      <td>calibrate</td>\n",
       "      <td>...</td>\n",
       "      <td>91</td>\n",
       "      <td>coj</td>\n",
       "      <td>2m0a</td>\n",
       "      <td>{u'type': u'Polygon', u'coordinates': [[[14.62...</td>\n",
       "      <td>coj2m002-fs01-20160731-0042-d91</td>\n",
       "      <td>coj2m002-fs01-20160731-0042-d91.fits.fz</td>\n",
       "      <td>19720335</td>\n",
       "      <td>[4560853, 3536542]</td>\n",
       "      <td>https://archive-lco-global.s3.amazonaws.com/co...</td>\n",
       "      <td>[{u'extension': u'.fits.fz', u'created': u'202...</td>\n",
       "    </tr>\n",
       "    <tr>\n",
       "      <th>2</th>\n",
       "      <td>88091935.0</td>\n",
       "      <td>2016-07-31T06:10:50.967000Z</td>\n",
       "      <td>2016-07-31</td>\n",
       "      <td>900.0</td>\n",
       "      <td>air</td>\n",
       "      <td>fs01</td>\n",
       "      <td>2016-07-31T06:10:50.967000Z</td>\n",
       "      <td></td>\n",
       "      <td>DARK</td>\n",
       "      <td>calibrate</td>\n",
       "      <td>...</td>\n",
       "      <td>0</td>\n",
       "      <td>coj</td>\n",
       "      <td>2m0a</td>\n",
       "      <td>{u'type': u'Polygon', u'coordinates': [[[10.66...</td>\n",
       "      <td>coj2m002-fs01-20160731-0041-d00</td>\n",
       "      <td>coj2m002-fs01-20160731-0041-d00.fits.fz</td>\n",
       "      <td>4560692</td>\n",
       "      <td>[19720342]</td>\n",
       "      <td>https://archive-lco-global.s3.amazonaws.com/co...</td>\n",
       "      <td>[{u'extension': u'.fits.fz', u'created': u'202...</td>\n",
       "    </tr>\n",
       "    <tr>\n",
       "      <th>3</th>\n",
       "      <td>88091935.0</td>\n",
       "      <td>2016-07-31T06:10:50.967000Z</td>\n",
       "      <td>2016-07-31</td>\n",
       "      <td>900.0</td>\n",
       "      <td>air</td>\n",
       "      <td>fs01</td>\n",
       "      <td>2016-07-31T06:10:50.967000Z</td>\n",
       "      <td></td>\n",
       "      <td>DARK</td>\n",
       "      <td>calibrate</td>\n",
       "      <td>...</td>\n",
       "      <td>91</td>\n",
       "      <td>coj</td>\n",
       "      <td>2m0a</td>\n",
       "      <td>{u'type': u'Polygon', u'coordinates': [[[10.66...</td>\n",
       "      <td>coj2m002-fs01-20160731-0041-d91</td>\n",
       "      <td>coj2m002-fs01-20160731-0041-d91.fits.fz</td>\n",
       "      <td>19720342</td>\n",
       "      <td>[4560692, 3536542]</td>\n",
       "      <td>https://archive-lco-global.s3.amazonaws.com/co...</td>\n",
       "      <td>[{u'extension': u'.fits.fz', u'created': u'202...</td>\n",
       "    </tr>\n",
       "    <tr>\n",
       "      <th>4</th>\n",
       "      <td>88091935.0</td>\n",
       "      <td>2016-07-31T05:55:05.764000Z</td>\n",
       "      <td>2016-07-31</td>\n",
       "      <td>900.0</td>\n",
       "      <td>air</td>\n",
       "      <td>fs01</td>\n",
       "      <td>2016-07-31T05:55:05.764000Z</td>\n",
       "      <td></td>\n",
       "      <td>DARK</td>\n",
       "      <td>calibrate</td>\n",
       "      <td>...</td>\n",
       "      <td>0</td>\n",
       "      <td>coj</td>\n",
       "      <td>2m0a</td>\n",
       "      <td>{u'type': u'Polygon', u'coordinates': [[[6.701...</td>\n",
       "      <td>coj2m002-fs01-20160731-0040-d00</td>\n",
       "      <td>coj2m002-fs01-20160731-0040-d00.fits.fz</td>\n",
       "      <td>4560594</td>\n",
       "      <td>[19720357]</td>\n",
       "      <td>https://archive-lco-global.s3.amazonaws.com/co...</td>\n",
       "      <td>[{u'extension': u'.fits.fz', u'created': u'202...</td>\n",
       "    </tr>\n",
       "  </tbody>\n",
       "</table>\n",
       "<p>5 rows × 21 columns</p>\n",
       "</div>"
      ],
      "text/plain": [
       "       BLKUID                     DATE_OBS     DAY_OBS  EXPTIME FILTER  \\\n",
       "0  88091935.0  2016-07-31T06:26:36.154000Z  2016-07-31    900.0    air   \n",
       "1  88091935.0  2016-07-31T06:26:36.154000Z  2016-07-31    900.0    air   \n",
       "2  88091935.0  2016-07-31T06:10:50.967000Z  2016-07-31    900.0    air   \n",
       "3  88091935.0  2016-07-31T06:10:50.967000Z  2016-07-31    900.0    air   \n",
       "4  88091935.0  2016-07-31T05:55:05.764000Z  2016-07-31    900.0    air   \n",
       "\n",
       "  INSTRUME                     L1PUBDAT OBJECT OBSTYPE     PROPID  ...  \\\n",
       "0     fs01  2016-07-31T06:26:36.154000Z           DARK  calibrate  ...   \n",
       "1     fs01  2016-07-31T06:26:36.154000Z           DARK  calibrate  ...   \n",
       "2     fs01  2016-07-31T06:10:50.967000Z           DARK  calibrate  ...   \n",
       "3     fs01  2016-07-31T06:10:50.967000Z           DARK  calibrate  ...   \n",
       "4     fs01  2016-07-31T05:55:05.764000Z           DARK  calibrate  ...   \n",
       "\n",
       "   RLEVEL  SITEID TELID                                               area  \\\n",
       "0       0     coj  2m0a  {u'type': u'Polygon', u'coordinates': [[[14.62...   \n",
       "1      91     coj  2m0a  {u'type': u'Polygon', u'coordinates': [[[14.62...   \n",
       "2       0     coj  2m0a  {u'type': u'Polygon', u'coordinates': [[[10.66...   \n",
       "3      91     coj  2m0a  {u'type': u'Polygon', u'coordinates': [[[10.66...   \n",
       "4       0     coj  2m0a  {u'type': u'Polygon', u'coordinates': [[[6.701...   \n",
       "\n",
       "                          basename                                 filename  \\\n",
       "0  coj2m002-fs01-20160731-0042-d00  coj2m002-fs01-20160731-0042-d00.fits.fz   \n",
       "1  coj2m002-fs01-20160731-0042-d91  coj2m002-fs01-20160731-0042-d91.fits.fz   \n",
       "2  coj2m002-fs01-20160731-0041-d00  coj2m002-fs01-20160731-0041-d00.fits.fz   \n",
       "3  coj2m002-fs01-20160731-0041-d91  coj2m002-fs01-20160731-0041-d91.fits.fz   \n",
       "4  coj2m002-fs01-20160731-0040-d00  coj2m002-fs01-20160731-0040-d00.fits.fz   \n",
       "\n",
       "         id      related_frames  \\\n",
       "0   4560853          [19720335]   \n",
       "1  19720335  [4560853, 3536542]   \n",
       "2   4560692          [19720342]   \n",
       "3  19720342  [4560692, 3536542]   \n",
       "4   4560594          [19720357]   \n",
       "\n",
       "                                                 url  \\\n",
       "0  https://archive-lco-global.s3.amazonaws.com/co...   \n",
       "1  https://archive-lco-global.s3.amazonaws.com/co...   \n",
       "2  https://archive-lco-global.s3.amazonaws.com/co...   \n",
       "3  https://archive-lco-global.s3.amazonaws.com/co...   \n",
       "4  https://archive-lco-global.s3.amazonaws.com/co...   \n",
       "\n",
       "                                         version_set  \n",
       "0  [{u'extension': u'.fits.fz', u'created': u'202...  \n",
       "1  [{u'extension': u'.fits.fz', u'created': u'202...  \n",
       "2  [{u'extension': u'.fits.fz', u'created': u'202...  \n",
       "3  [{u'extension': u'.fits.fz', u'created': u'202...  \n",
       "4  [{u'extension': u'.fits.fz', u'created': u'202...  \n",
       "\n",
       "[5 rows x 21 columns]"
      ]
     },
     "execution_count": 9,
     "metadata": {},
     "output_type": "execute_result"
    }
   ],
   "source": [
    "df.head()"
   ]
  },
  {
   "cell_type": "code",
   "execution_count": null,
   "metadata": {},
   "outputs": [],
   "source": []
  }
 ],
 "metadata": {
  "kernelspec": {
   "display_name": "Python 2",
   "language": "python",
   "name": "python2"
  },
  "language_info": {
   "codemirror_mode": {
    "name": "ipython",
    "version": 2
   },
   "file_extension": ".py",
   "mimetype": "text/x-python",
   "name": "python",
   "nbconvert_exporter": "python",
   "pygments_lexer": "ipython2",
   "version": "2.7.16"
  },
  "toc": {
   "base_numbering": 1,
   "nav_menu": {},
   "number_sections": true,
   "sideBar": true,
   "skip_h1_title": true,
   "title_cell": "Table of Contents",
   "title_sidebar": "Contents",
   "toc_cell": false,
   "toc_position": {},
   "toc_section_display": true,
   "toc_window_display": true
  }
 },
 "nbformat": 4,
 "nbformat_minor": 4
}
